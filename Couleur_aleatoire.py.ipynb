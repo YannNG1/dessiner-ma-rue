{
 "cells": [
  {
   "cell_type": "code",
   "execution_count": 1,
   "metadata": {},
   "outputs": [],
   "source": [
    "def couleur_aleatoire():\n",
    "    '''\n",
    "    Renvoie une couleur HTML valide\n",
    "    au format 'rgb(rouge, vert, bleu)'\n",
    "    où rouge, vert et bleu sont des entiers\n",
    "    compris entre 0 et 255 choisis aléatoirement.\n",
    "    \n",
    "    '''\n",
    "    from random import randint\n",
    "    rouge = randint(0,255)\n",
    "    vert = randint(0,255)\n",
    "    bleu = randint(0,255)\n",
    "    return f\"rgb({rouge},{vert},{bleu})\"\n",
    "    \n",
    "    \n",
    "    return "
   ]
  },
  {
   "cell_type": "code",
   "execution_count": 2,
   "metadata": {},
   "outputs": [
    {
     "data": {
      "text/plain": [
       "'rgb(75,156,202)'"
      ]
     },
     "execution_count": 2,
     "metadata": {},
     "output_type": "execute_result"
    }
   ],
   "source": [
    "couleur_aleatoire()"
   ]
  }
 ],
 "metadata": {
  "kernelspec": {
   "display_name": "Python 3",
   "language": "python",
   "name": "python3"
  },
  "language_info": {
   "codemirror_mode": {
    "name": "ipython",
    "version": 3
   },
   "file_extension": ".py",
   "mimetype": "text/x-python",
   "name": "python",
   "nbconvert_exporter": "python",
   "pygments_lexer": "ipython3",
   "version": "3.7.1"
  }
 },
 "nbformat": 4,
 "nbformat_minor": 2
}
